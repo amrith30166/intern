{
 "cells": [
  {
   "cell_type": "code",
   "execution_count": 1,
   "id": "7f600469-7f23-44ad-b1b0-18519cd40e04",
   "metadata": {},
   "outputs": [],
   "source": [
    "import pandas as pd\n",
    "from pandas import read_csv"
   ]
  },
  {
   "cell_type": "markdown",
   "id": "fb11d706-7f3b-4537-bc42-84146071fd8c",
   "metadata": {},
   "source": [
    "# read the file"
   ]
  },
  {
   "cell_type": "code",
   "execution_count": 18,
   "id": "ed40ac15-ea66-4d89-9292-c8dc1ff7a9db",
   "metadata": {},
   "outputs": [
    {
     "name": "stdout",
     "output_type": "stream",
     "text": [
      "         ID  Year_Birth   Education Marital_Status   Income  Kidhome  \\\n",
      "0      5524        1957  Graduation         Single  58138.0        0   \n",
      "1      2174        1954  Graduation         Single  46344.0        1   \n",
      "2      4141        1965  Graduation       Together  71613.0        0   \n",
      "3      6182        1984  Graduation       Together  26646.0        1   \n",
      "4      5324        1981         PhD        Married  58293.0        1   \n",
      "...     ...         ...         ...            ...      ...      ...   \n",
      "2235  10870        1967  Graduation        Married  61223.0        0   \n",
      "2236   4001        1946         PhD       Together  64014.0        2   \n",
      "2237   7270        1981  Graduation       Divorced  56981.0        0   \n",
      "2238   8235        1956      Master       Together  69245.0        0   \n",
      "2239   9405        1954         PhD        Married  52869.0        1   \n",
      "\n",
      "      Teenhome Dt_Customer  Recency  MntWines  ...  NumWebVisitsMonth  \\\n",
      "0            0  04-09-2012       58       635  ...                  7   \n",
      "1            1  08-03-2014       38        11  ...                  5   \n",
      "2            0  21-08-2013       26       426  ...                  4   \n",
      "3            0  10-02-2014       26        11  ...                  6   \n",
      "4            0  19-01-2014       94       173  ...                  5   \n",
      "...        ...         ...      ...       ...  ...                ...   \n",
      "2235         1  13-06-2013       46       709  ...                  5   \n",
      "2236         1  10-06-2014       56       406  ...                  7   \n",
      "2237         0  25-01-2014       91       908  ...                  6   \n",
      "2238         1  24-01-2014        8       428  ...                  3   \n",
      "2239         1  15-10-2012       40        84  ...                  7   \n",
      "\n",
      "      AcceptedCmp3  AcceptedCmp4  AcceptedCmp5  AcceptedCmp1  AcceptedCmp2  \\\n",
      "0                0             0             0             0             0   \n",
      "1                0             0             0             0             0   \n",
      "2                0             0             0             0             0   \n",
      "3                0             0             0             0             0   \n",
      "4                0             0             0             0             0   \n",
      "...            ...           ...           ...           ...           ...   \n",
      "2235             0             0             0             0             0   \n",
      "2236             0             0             0             1             0   \n",
      "2237             0             1             0             0             0   \n",
      "2238             0             0             0             0             0   \n",
      "2239             0             0             0             0             0   \n",
      "\n",
      "      Complain  Z_CostContact  Z_Revenue  Response  \n",
      "0            0              3         11         1  \n",
      "1            0              3         11         0  \n",
      "2            0              3         11         0  \n",
      "3            0              3         11         0  \n",
      "4            0              3         11         0  \n",
      "...        ...            ...        ...       ...  \n",
      "2235         0              3         11         0  \n",
      "2236         0              3         11         0  \n",
      "2237         0              3         11         0  \n",
      "2238         0              3         11         0  \n",
      "2239         0              3         11         1  \n",
      "\n",
      "[2240 rows x 29 columns]\n"
     ]
    }
   ],
   "source": [
    "file_path=\"D:/for internship/marketing_campaign.csv\"\n",
    "df = read_csv(file_path, sep=\"\\t\")\n",
    "\n",
    "print(df)"
   ]
  },
  {
   "cell_type": "markdown",
   "id": "295b15c0-6cdc-4b74-9fac-1456e8175e61",
   "metadata": {},
   "source": [
    "# number of null value"
   ]
  },
  {
   "cell_type": "code",
   "execution_count": 3,
   "id": "bc2fc14e-edf3-4043-b8a7-d5b0891e77d3",
   "metadata": {},
   "outputs": [
    {
     "name": "stdout",
     "output_type": "stream",
     "text": [
      "ID                      0\n",
      "Year_Birth              0\n",
      "Education               0\n",
      "Marital_Status          0\n",
      "Income                 24\n",
      "Kidhome                 0\n",
      "Teenhome                0\n",
      "Dt_Customer             0\n",
      "Recency                 0\n",
      "MntWines                0\n",
      "MntFruits               0\n",
      "MntMeatProducts         0\n",
      "MntFishProducts         0\n",
      "MntSweetProducts        0\n",
      "MntGoldProds            0\n",
      "NumDealsPurchases       0\n",
      "NumWebPurchases         0\n",
      "NumCatalogPurchases     0\n",
      "NumStorePurchases       0\n",
      "NumWebVisitsMonth       0\n",
      "AcceptedCmp3            0\n",
      "AcceptedCmp4            0\n",
      "AcceptedCmp5            0\n",
      "AcceptedCmp1            0\n",
      "AcceptedCmp2            0\n",
      "Complain                0\n",
      "Z_CostContact           0\n",
      "Z_Revenue               0\n",
      "Response                0\n",
      "dtype: int64\n"
     ]
    }
   ],
   "source": [
    "\n",
    "null_value=df.isnull().sum()\n",
    "print(null_value)"
   ]
  },
  {
   "cell_type": "markdown",
   "id": "f9305371-8af9-4367-9c71-96c9a1655c56",
   "metadata": {},
   "source": [
    "# removing the null value"
   ]
  },
  {
   "cell_type": "code",
   "execution_count": 4,
   "id": "feedd848-62f4-4488-8925-92e28a394be5",
   "metadata": {},
   "outputs": [
    {
     "name": "stdout",
     "output_type": "stream",
     "text": [
      "         ID  Year_Birth   Education Marital_Status   Income  Kidhome  \\\n",
      "0      5524        1957  Graduation         Single  58138.0        0   \n",
      "1      2174        1954  Graduation         Single  46344.0        1   \n",
      "2      4141        1965  Graduation       Together  71613.0        0   \n",
      "3      6182        1984  Graduation       Together  26646.0        1   \n",
      "4      5324        1981         PhD        Married  58293.0        1   \n",
      "...     ...         ...         ...            ...      ...      ...   \n",
      "2235  10870        1967  Graduation        Married  61223.0        0   \n",
      "2236   4001        1946         PhD       Together  64014.0        2   \n",
      "2237   7270        1981  Graduation       Divorced  56981.0        0   \n",
      "2238   8235        1956      Master       Together  69245.0        0   \n",
      "2239   9405        1954         PhD        Married  52869.0        1   \n",
      "\n",
      "      Teenhome Dt_Customer  Recency  MntWines  ...  NumWebVisitsMonth  \\\n",
      "0            0  04-09-2012       58       635  ...                  7   \n",
      "1            1  08-03-2014       38        11  ...                  5   \n",
      "2            0  21-08-2013       26       426  ...                  4   \n",
      "3            0  10-02-2014       26        11  ...                  6   \n",
      "4            0  19-01-2014       94       173  ...                  5   \n",
      "...        ...         ...      ...       ...  ...                ...   \n",
      "2235         1  13-06-2013       46       709  ...                  5   \n",
      "2236         1  10-06-2014       56       406  ...                  7   \n",
      "2237         0  25-01-2014       91       908  ...                  6   \n",
      "2238         1  24-01-2014        8       428  ...                  3   \n",
      "2239         1  15-10-2012       40        84  ...                  7   \n",
      "\n",
      "      AcceptedCmp3  AcceptedCmp4  AcceptedCmp5  AcceptedCmp1  AcceptedCmp2  \\\n",
      "0                0             0             0             0             0   \n",
      "1                0             0             0             0             0   \n",
      "2                0             0             0             0             0   \n",
      "3                0             0             0             0             0   \n",
      "4                0             0             0             0             0   \n",
      "...            ...           ...           ...           ...           ...   \n",
      "2235             0             0             0             0             0   \n",
      "2236             0             0             0             1             0   \n",
      "2237             0             1             0             0             0   \n",
      "2238             0             0             0             0             0   \n",
      "2239             0             0             0             0             0   \n",
      "\n",
      "      Complain  Z_CostContact  Z_Revenue  Response  \n",
      "0            0              3         11         1  \n",
      "1            0              3         11         0  \n",
      "2            0              3         11         0  \n",
      "3            0              3         11         0  \n",
      "4            0              3         11         0  \n",
      "...        ...            ...        ...       ...  \n",
      "2235         0              3         11         0  \n",
      "2236         0              3         11         0  \n",
      "2237         0              3         11         0  \n",
      "2238         0              3         11         0  \n",
      "2239         0              3         11         1  \n",
      "\n",
      "[2216 rows x 29 columns]\n"
     ]
    }
   ],
   "source": [
    "null_value_remove=df.dropna()\n",
    "print(null_value_remove)"
   ]
  },
  {
   "cell_type": "markdown",
   "id": "38fe93e3-db55-4336-85a3-cd72b80cd3e4",
   "metadata": {},
   "source": [
    "# find duplicate rows"
   ]
  },
  {
   "cell_type": "code",
   "execution_count": 19,
   "id": "e1a276d5-98d7-444b-8edd-a18422d8e8f5",
   "metadata": {},
   "outputs": [
    {
     "name": "stdout",
     "output_type": "stream",
     "text": [
      "0       False\n",
      "1       False\n",
      "2       False\n",
      "3       False\n",
      "4       False\n",
      "        ...  \n",
      "2235    False\n",
      "2236    False\n",
      "2237    False\n",
      "2238    False\n",
      "2239    False\n",
      "Length: 2240, dtype: bool\n"
     ]
    }
   ],
   "source": [
    "duplicate=df.duplicated()\n",
    "print(duplicated"
   ]
  },
  {
   "cell_type": "markdown",
   "id": "d7947967-5ef1-4847-a363-542dab3ff3c0",
   "metadata": {},
   "source": [
    "# check the datatype"
   ]
  },
  {
   "cell_type": "code",
   "execution_count": 8,
   "id": "7ef970d1-abd1-42db-b3ac-0db4751d154c",
   "metadata": {},
   "outputs": [
    {
     "name": "stdout",
     "output_type": "stream",
     "text": [
      "ID                       int64\n",
      "Year_Birth               int64\n",
      "Education               object\n",
      "Marital_Status          object\n",
      "Income                 float64\n",
      "Kidhome                  int64\n",
      "Teenhome                 int64\n",
      "Dt_Customer             object\n",
      "Recency                  int64\n",
      "MntWines                 int64\n",
      "MntFruits                int64\n",
      "MntMeatProducts          int64\n",
      "MntFishProducts          int64\n",
      "MntSweetProducts         int64\n",
      "MntGoldProds             int64\n",
      "NumDealsPurchases        int64\n",
      "NumWebPurchases          int64\n",
      "NumCatalogPurchases      int64\n",
      "NumStorePurchases        int64\n",
      "NumWebVisitsMonth        int64\n",
      "AcceptedCmp3             int64\n",
      "AcceptedCmp4             int64\n",
      "AcceptedCmp5             int64\n",
      "AcceptedCmp1             int64\n",
      "AcceptedCmp2             int64\n",
      "Complain                 int64\n",
      "Z_CostContact            int64\n",
      "Z_Revenue                int64\n",
      "Response                 int64\n",
      "dtype: object\n"
     ]
    }
   ],
   "source": [
    "print(df.dtypes)"
   ]
  },
  {
   "cell_type": "code",
   "execution_count": 9,
   "id": "ef365053-057d-4136-98d9-d8d300839419",
   "metadata": {},
   "outputs": [
    {
     "name": "stdout",
     "output_type": "stream",
     "text": [
      "object\n"
     ]
    }
   ],
   "source": [
    "print(df['Dt_Customer'].dtypes)"
   ]
  },
  {
   "cell_type": "markdown",
   "id": "3b605eed-83ee-4f62-a7c4-2120f507faf2",
   "metadata": {},
   "source": [
    "# Convert date formats to a consistent type (e.g., dd-mm-yyyy)"
   ]
  },
  {
   "cell_type": "code",
   "execution_count": 13,
   "id": "e2e69baf-995d-41f6-ba12-d1e410634637",
   "metadata": {},
   "outputs": [
    {
     "name": "stdout",
     "output_type": "stream",
     "text": [
      "datetime64[ns]\n"
     ]
    }
   ],
   "source": [
    "df['Dt_Customer']=pd.to_datetime(df['Dt_Customer'],errors= 'coerce',dayfirst=True)\n",
    "print(df['Dt_Customer'].dtypes)"
   ]
  },
  {
   "cell_type": "markdown",
   "id": "ed0d05eb-d0b8-4eab-86ba-2806ba0d54c7",
   "metadata": {},
   "source": [
    "#  Rename column headers to be clean and uniform"
   ]
  },
  {
   "cell_type": "code",
   "execution_count": 14,
   "id": "ee55e7de-f898-4edd-ad10-c7b4155db350",
   "metadata": {},
   "outputs": [
    {
     "name": "stdout",
     "output_type": "stream",
     "text": [
      "column names\n",
      "Index(['ID', 'Year_Birth', 'Education', 'Marital_Status', 'Income', 'Kidhome',\n",
      "       'Teenhome', 'Dt_Customer', 'Recency', 'MntWines', 'MntFruits',\n",
      "       'MntMeatProducts', 'MntFishProducts', 'MntSweetProducts',\n",
      "       'MntGoldProds', 'NumDealsPurchases', 'NumWebPurchases',\n",
      "       'NumCatalogPurchases', 'NumStorePurchases', 'NumWebVisitsMonth',\n",
      "       'AcceptedCmp3', 'AcceptedCmp4', 'AcceptedCmp5', 'AcceptedCmp1',\n",
      "       'AcceptedCmp2', 'Complain', 'Z_CostContact', 'Z_Revenue', 'Response'],\n",
      "      dtype='object')\n"
     ]
    }
   ],
   "source": [
    "print(\"column names\")\n",
    "print(df.columns)"
   ]
  },
  {
   "cell_type": "code",
   "execution_count": 15,
   "id": "e22a5275-858a-4050-9a2d-b9b580cb30cc",
   "metadata": {},
   "outputs": [
    {
     "name": "stdout",
     "output_type": "stream",
     "text": [
      "after converting to lower case\n",
      "Index(['id', 'year_birth', 'education', 'marital_status', 'income', 'kidhome',\n",
      "       'teenhome', 'dt_customer', 'recency', 'mntwines', 'mntfruits',\n",
      "       'mntmeatproducts', 'mntfishproducts', 'mntsweetproducts',\n",
      "       'mntgoldprods', 'numdealspurchases', 'numwebpurchases',\n",
      "       'numcatalogpurchases', 'numstorepurchases', 'numwebvisitsmonth',\n",
      "       'acceptedcmp3', 'acceptedcmp4', 'acceptedcmp5', 'acceptedcmp1',\n",
      "       'acceptedcmp2', 'complain', 'z_costcontact', 'z_revenue', 'response'],\n",
      "      dtype='object')\n"
     ]
    }
   ],
   "source": [
    "df.columns=df.columns.str.lower()\n",
    "print(\"after converting to lower case\")\n",
    "print(df.columns)"
   ]
  },
  {
   "cell_type": "markdown",
   "id": "200f3d83-3d3a-4e19-8bfe-403b309f515f",
   "metadata": {},
   "source": [
    "#  Check and fix data types (e.g., age should be int, date as datetime)."
   ]
  },
  {
   "cell_type": "code",
   "execution_count": 16,
   "id": "14cc2def-9fc6-4672-91f1-ea2ed5ad7089",
   "metadata": {},
   "outputs": [
    {
     "name": "stdout",
     "output_type": "stream",
     "text": [
      "id                              int64\n",
      "year_birth                      int64\n",
      "education                      object\n",
      "marital_status                 object\n",
      "income                        float64\n",
      "kidhome                         int64\n",
      "teenhome                        int64\n",
      "dt_customer            datetime64[ns]\n",
      "recency                         int64\n",
      "mntwines                        int64\n",
      "mntfruits                       int64\n",
      "mntmeatproducts                 int64\n",
      "mntfishproducts                 int64\n",
      "mntsweetproducts                int64\n",
      "mntgoldprods                    int64\n",
      "numdealspurchases               int64\n",
      "numwebpurchases                 int64\n",
      "numcatalogpurchases             int64\n",
      "numstorepurchases               int64\n",
      "numwebvisitsmonth               int64\n",
      "acceptedcmp3                    int64\n",
      "acceptedcmp4                    int64\n",
      "acceptedcmp5                    int64\n",
      "acceptedcmp1                    int64\n",
      "acceptedcmp2                    int64\n",
      "complain                        int64\n",
      "z_costcontact                   int64\n",
      "z_revenue                       int64\n",
      "response                        int64\n",
      "dtype: object\n"
     ]
    }
   ],
   "source": [
    "print(df.dtypes)"
   ]
  },
  {
   "cell_type": "code",
   "execution_count": null,
   "id": "c9201347-8633-42cc-899c-f64fc37fb05c",
   "metadata": {},
   "outputs": [],
   "source": []
  }
 ],
 "metadata": {
  "kernelspec": {
   "display_name": "Python 3 (ipykernel)",
   "language": "python",
   "name": "python3"
  },
  "language_info": {
   "codemirror_mode": {
    "name": "ipython",
    "version": 3
   },
   "file_extension": ".py",
   "mimetype": "text/x-python",
   "name": "python",
   "nbconvert_exporter": "python",
   "pygments_lexer": "ipython3",
   "version": "3.13.1"
  }
 },
 "nbformat": 4,
 "nbformat_minor": 5
}
